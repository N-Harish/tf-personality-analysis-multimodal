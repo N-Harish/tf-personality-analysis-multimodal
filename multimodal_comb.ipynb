{
 "cells": [
  {
   "cell_type": "code",
   "execution_count": 1,
   "id": "f044e02c-5a72-4d58-b658-6138dd8000a6",
   "metadata": {},
   "outputs": [
    {
     "name": "stderr",
     "output_type": "stream",
     "text": [
      "2023-02-04 08:28:47.548604: I tensorflow/stream_executor/platform/default/dso_loader.cc:53] Successfully opened dynamic library libcudart.so.11.0\n",
      "2023-02-04 08:28:49.265180: I tensorflow/stream_executor/platform/default/dso_loader.cc:53] Successfully opened dynamic library libcuda.so.1\n",
      "2023-02-04 08:28:49.671659: I tensorflow/core/common_runtime/gpu/gpu_device.cc:1733] Found device 0 with properties: \n",
      "pciBusID: 0000:00:04.0 name: NVIDIA A100-SXM4-40GB computeCapability: 8.0\n",
      "coreClock: 1.41GHz coreCount: 108 deviceMemorySize: 39.59GiB deviceMemoryBandwidth: 1.41TiB/s\n",
      "2023-02-04 08:28:49.671712: I tensorflow/stream_executor/platform/default/dso_loader.cc:53] Successfully opened dynamic library libcudart.so.11.0\n",
      "2023-02-04 08:28:49.676619: I tensorflow/stream_executor/platform/default/dso_loader.cc:53] Successfully opened dynamic library libcublas.so.11\n",
      "2023-02-04 08:28:49.676717: I tensorflow/stream_executor/platform/default/dso_loader.cc:53] Successfully opened dynamic library libcublasLt.so.11\n",
      "2023-02-04 08:28:49.678182: I tensorflow/stream_executor/platform/default/dso_loader.cc:53] Successfully opened dynamic library libcufft.so.10\n",
      "2023-02-04 08:28:49.678556: I tensorflow/stream_executor/platform/default/dso_loader.cc:53] Successfully opened dynamic library libcurand.so.10\n",
      "2023-02-04 08:28:49.679197: I tensorflow/stream_executor/platform/default/dso_loader.cc:53] Successfully opened dynamic library libcusolver.so.11\n",
      "2023-02-04 08:28:49.680243: I tensorflow/stream_executor/platform/default/dso_loader.cc:53] Successfully opened dynamic library libcusparse.so.11\n",
      "2023-02-04 08:28:49.680461: I tensorflow/stream_executor/platform/default/dso_loader.cc:53] Successfully opened dynamic library libcudnn.so.8\n",
      "2023-02-04 08:28:49.684436: I tensorflow/core/common_runtime/gpu/gpu_device.cc:1871] Adding visible gpu devices: 0\n"
     ]
    }
   ],
   "source": [
    "from tensorflow.keras.models import load_model\n",
    "import tensorflow as tf\n",
    "from sklearn.model_selection import train_test_split\n",
    "import pandas as pd\n",
    "import numpy as np\n",
    "import os\n",
    "from pathlib import Path\n",
    "from tensorflow.keras import mixed_precision\n",
    "import transformers\n",
    "from tensorflow.keras.layers import Dense\n",
    "from tensorflow.keras.models import Model\n",
    "from tensorflow.keras.layers import concatenate, Dense\n",
    "import pickle\n",
    "\n",
    "\n",
    "# enable tf debugging\n",
    "# tf.debugging.experimental.enable_dump_debug_info('./logs_tfboard/tfds_dumps/', tensor_debug_mode=\"FULL_HEALTH\")\n",
    "\n",
    "\n",
    "# stop tf from using all gpu memory and use only as much required\n",
    "physical_devices = tf.config.list_physical_devices('GPU')\n",
    "for device in physical_devices:\n",
    "    tf.config.experimental.set_memory_growth(device, True)\n"
   ]
  },
  {
   "cell_type": "code",
   "execution_count": 2,
   "id": "bd420125-251e-466f-b244-6da385c7ff6d",
   "metadata": {},
   "outputs": [],
   "source": [
    "import tensorflow.keras.backend as k\n",
    "\n",
    "\n",
    "def mean_acc(y_true, y_pred):\n",
    "    diff = k.abs(y_true - y_pred)\n",
    "    return k.mean(1-diff)"
   ]
  },
  {
   "cell_type": "markdown",
   "id": "e1636949-f242-4841-8d0e-3450ba72293d",
   "metadata": {},
   "source": [
    "# load all model embeddings/ defining multimodal (4 models)"
   ]
  },
  {
   "cell_type": "markdown",
   "id": "050476dc-59ad-44fb-980f-a513541f3a81",
   "metadata": {
    "tags": []
   },
   "source": [
    "## Uncomment below codes to change multimodal architechture"
   ]
  },
  {
   "cell_type": "code",
   "execution_count": 3,
   "id": "2f259586-83c0-4e40-bda5-bab9ce14190b",
   "metadata": {},
   "outputs": [
    {
     "name": "stderr",
     "output_type": "stream",
     "text": [
      "2023-02-04 08:28:50.047496: I tensorflow/core/platform/cpu_feature_guard.cc:142] This TensorFlow binary is optimized with oneAPI Deep Neural Network Library (oneDNN) to use the following CPU instructions in performance-critical operations:  AVX2 AVX512F FMA\n",
      "To enable them in other operations, rebuild TensorFlow with the appropriate compiler flags.\n",
      "2023-02-04 08:28:50.100675: I tensorflow/core/common_runtime/gpu/gpu_device.cc:1733] Found device 0 with properties: \n",
      "pciBusID: 0000:00:04.0 name: NVIDIA A100-SXM4-40GB computeCapability: 8.0\n",
      "coreClock: 1.41GHz coreCount: 108 deviceMemorySize: 39.59GiB deviceMemoryBandwidth: 1.41TiB/s\n",
      "2023-02-04 08:28:50.104742: I tensorflow/core/common_runtime/gpu/gpu_device.cc:1871] Adding visible gpu devices: 0\n",
      "2023-02-04 08:28:50.104836: I tensorflow/stream_executor/platform/default/dso_loader.cc:53] Successfully opened dynamic library libcudart.so.11.0\n",
      "2023-02-04 08:28:52.507576: I tensorflow/core/common_runtime/gpu/gpu_device.cc:1258] Device interconnect StreamExecutor with strength 1 edge matrix:\n",
      "2023-02-04 08:28:52.507604: I tensorflow/core/common_runtime/gpu/gpu_device.cc:1264]      0 \n",
      "2023-02-04 08:28:52.507612: I tensorflow/core/common_runtime/gpu/gpu_device.cc:1277] 0:   N \n",
      "2023-02-04 08:28:52.513731: I tensorflow/core/common_runtime/gpu/gpu_device.cc:1418] Created TensorFlow device (/job:localhost/replica:0/task:0/device:GPU:0 with 38316 MB memory) -> physical GPU (device: 0, name: NVIDIA A100-SXM4-40GB, pci bus id: 0000:00:04.0, compute capability: 8.0)\n"
     ]
    }
   ],
   "source": [
    "model_env = load_model(\n",
    "    \"/mount1/harish/Personality_trait/checkpoint/00004-env_personality/env-personality-model-04-0.12.h5\",\n",
    "    custom_objects={\"mean_acc\": mean_acc}\n",
    "                  )"
   ]
  },
  {
   "cell_type": "code",
   "execution_count": 4,
   "id": "97ee8e42-539d-47c1-9fe6-76f06fba7b97",
   "metadata": {},
   "outputs": [],
   "source": [
    "# # Save frame model \n",
    "# model.save(\"env_personality.h5\")"
   ]
  },
  {
   "cell_type": "code",
   "execution_count": null,
   "id": "520f5387-76a7-4efc-9c18-01ea1380f3a9",
   "metadata": {},
   "outputs": [],
   "source": []
  },
  {
   "cell_type": "code",
   "execution_count": 5,
   "id": "3b796477-fd45-48f4-9bce-deb6426555bc",
   "metadata": {},
   "outputs": [],
   "source": [
    "model_face = load_model(\n",
    "    \"/mount1/harish/Personality_trait/checkpoint/face_personality/00008-face_personality/face-personality-model-05-0.12.h5\", \n",
    "    custom_objects = {\"mean_acc\": mean_acc}\n",
    ")"
   ]
  },
  {
   "cell_type": "code",
   "execution_count": 6,
   "id": "975d436b-89a2-4ecc-928e-e1117817af6b",
   "metadata": {},
   "outputs": [],
   "source": [
    "# # Save face model\n",
    "# model_face.save(\"face_personality.h5\")"
   ]
  },
  {
   "cell_type": "code",
   "execution_count": null,
   "id": "d576020c-a639-46db-ac02-d57b034af0e7",
   "metadata": {},
   "outputs": [],
   "source": []
  },
  {
   "cell_type": "code",
   "execution_count": 7,
   "id": "940117ae-cae2-49ed-9775-4cc82fc6a124",
   "metadata": {},
   "outputs": [],
   "source": [
    "model_aud = load_model(\"/mount1/harish/Personality_trait/checkpoint/audio_personality/00008-audio_personality/audio-personality-model-11-0.11.h5\", \n",
    "                      custom_objects={\"mean_acc\": mean_acc})"
   ]
  },
  {
   "cell_type": "code",
   "execution_count": 8,
   "id": "3fed7321-bd10-4c7f-bbc2-1d8f770a12f5",
   "metadata": {},
   "outputs": [],
   "source": [
    "# # Save audio model\n",
    "# model_aud.save(\"audio_personality_par_model.h5\")"
   ]
  },
  {
   "cell_type": "code",
   "execution_count": null,
   "id": "87be89f9-ae23-4761-8063-b344eb5e7d41",
   "metadata": {},
   "outputs": [],
   "source": []
  },
  {
   "cell_type": "code",
   "execution_count": 9,
   "id": "d5870004-8c68-4b34-a8b4-7e83d054c4e3",
   "metadata": {},
   "outputs": [],
   "source": [
    "# model_text = load_model(\n",
    "#     \"/mount1/harish/Personality_trait/checkpoint/00015-text_personality/text-personality-model-16-0.12.h5\",\n",
    "#     custom_objects={\"mean_acc\": mean_acc, \"TFBertModel\": transformers.TFBertModel}\n",
    "# )"
   ]
  },
  {
   "cell_type": "code",
   "execution_count": 10,
   "id": "0d91a19f-917c-4572-9ec6-3e7ce2520200",
   "metadata": {},
   "outputs": [],
   "source": [
    "# # Save text model\n",
    "# model_text.save(\"text_personality_ocean.h5\")"
   ]
  },
  {
   "cell_type": "code",
   "execution_count": 11,
   "id": "569fff35-143f-47ce-9298-958750a48ad3",
   "metadata": {},
   "outputs": [
    {
     "name": "stdout",
     "output_type": "stream",
     "text": [
      "WARNING:tensorflow:AutoGraph could not transform <function input_processing at 0x7ff628c1cb80> and will run it as-is.\n",
      "Please report this to the TensorFlow team. When filing the bug, set the verbosity to 10 (on Linux, `export AUTOGRAPH_VERBOSITY=10`) and attach the full output.\n",
      "Cause: '<' not supported between instances of 'Literal' and 'str'\n",
      "To silence this warning, decorate the function with @tf.autograph.experimental.do_not_convert\n",
      "WARNING: AutoGraph could not transform <function input_processing at 0x7ff628c1cb80> and will run it as-is.\n",
      "Please report this to the TensorFlow team. When filing the bug, set the verbosity to 10 (on Linux, `export AUTOGRAPH_VERBOSITY=10`) and attach the full output.\n",
      "Cause: '<' not supported between instances of 'Literal' and 'str'\n",
      "To silence this warning, decorate the function with @tf.autograph.experimental.do_not_convert\n",
      "WARNING:tensorflow:From /mount1/miniconda3/envs/tfgpu2.5/lib/python3.8/site-packages/tensorflow/python/ops/array_ops.py:5043: calling gather (from tensorflow.python.ops.array_ops) with validate_indices is deprecated and will be removed in a future version.\n",
      "Instructions for updating:\n",
      "The `validate_indices` argument has no effect. Indices are always validated on CPU and never validated on GPU.\n"
     ]
    }
   ],
   "source": [
    "\n",
    "model_path = \"text_personality_ocean.h5\"\n",
    "\n",
    "custom_objects={\"mean_acc\": mean_acc, \"TFBertModel\": transformers.TFBertModel}\n",
    "\n",
    "model_text = load_model(model_path, custom_objects=custom_objects)"
   ]
  },
  {
   "cell_type": "code",
   "execution_count": 12,
   "id": "05093db7-3395-4215-9ce3-be57b2945787",
   "metadata": {},
   "outputs": [],
   "source": [
    "# Freeze all pretrained model\n",
    "model_face.trainable = False\n",
    "model_aud.trainable = False\n",
    "model_text.trainable = False\n",
    "model_env.trainable = False"
   ]
  },
  {
   "cell_type": "markdown",
   "id": "9acde368-403d-4c72-a738-666162364a1c",
   "metadata": {},
   "source": [
    "## Building multimodal"
   ]
  },
  {
   "cell_type": "code",
   "execution_count": 13,
   "id": "22eb0f41-bf17-431d-91e4-c29a662c004b",
   "metadata": {},
   "outputs": [
    {
     "name": "stdout",
     "output_type": "stream",
     "text": [
      "Model: \"model\"\n",
      "__________________________________________________________________________________________________\n",
      "Layer (type)                    Output Shape         Param #     Connected to                     \n",
      "==================================================================================================\n",
      "input_token (InputLayer)        [(None, 64)]         0                                            \n",
      "__________________________________________________________________________________________________\n",
      "masked_token (InputLayer)       [(None, 64)]         0                                            \n",
      "__________________________________________________________________________________________________\n",
      "tf_bert_model (TFBertModel)     TFBaseModelOutputWit 109482240   input_token[0][0]                \n",
      "                                                                 masked_token[0][0]               \n",
      "__________________________________________________________________________________________________\n",
      "global_average_pooling1d (Globa (None, 768)          0           tf_bert_model[0][0]              \n",
      "__________________________________________________________________________________________________\n",
      "txt_emb (Dense)                 (None, 128)          98432       global_average_pooling1d[0][0]   \n",
      "==================================================================================================\n",
      "Total params: 109,580,672\n",
      "Trainable params: 98,432\n",
      "Non-trainable params: 109,482,240\n",
      "__________________________________________________________________________________________________\n"
     ]
    }
   ],
   "source": [
    "# Create text emb model\n",
    "op_txt = Dense(128, name='txt_emb')(model_text.get_layer(\"global_average_pooling1d\").output)\n",
    "\n",
    "model_text_emb = Model(inputs=model_text.input, outputs=op_txt)\n",
    "# model_text_emb.trainable = False\n",
    "model_text_emb.summary()"
   ]
  },
  {
   "cell_type": "code",
   "execution_count": 14,
   "id": "1ea991b8-cf9e-4b3e-b2df-043ed0c31117",
   "metadata": {},
   "outputs": [
    {
     "name": "stdout",
     "output_type": "stream",
     "text": [
      "Model: \"model_1\"\n",
      "_________________________________________________________________\n",
      "Layer (type)                 Output Shape              Param #   \n",
      "=================================================================\n",
      "input_4 (InputLayer)         [(None, 30, 224, 224, 3)] 0         \n",
      "_________________________________________________________________\n",
      "time_distributed_1 (TimeDist (None, 30, 2048)          42626560  \n",
      "_________________________________________________________________\n",
      "lstm_1 (LSTM)                (None, 256)               2360320   \n",
      "=================================================================\n",
      "Total params: 44,986,880\n",
      "Trainable params: 0\n",
      "Non-trainable params: 44,986,880\n",
      "_________________________________________________________________\n"
     ]
    }
   ],
   "source": [
    "# Create frame emb model\n",
    "model_env_emb = Model(inputs=model_env.input, outputs=model_env.get_layer(\"lstm_1\").output)\n",
    "# model_env_emb.trainable = False\n",
    "model_env_emb.summary()"
   ]
  },
  {
   "cell_type": "code",
   "execution_count": 15,
   "id": "0b27ebf1-f2fa-4b8d-969e-f9adff62ea92",
   "metadata": {},
   "outputs": [
    {
     "name": "stdout",
     "output_type": "stream",
     "text": [
      "Model: \"model_2\"\n",
      "_________________________________________________________________\n",
      "Layer (type)                 Output Shape              Param #   \n",
      "=================================================================\n",
      "input_2 (InputLayer)         [(None, 30, 224, 224, 3)] 0         \n",
      "_________________________________________________________________\n",
      "time_distributed (TimeDistri (None, 30, 2048)          23564800  \n",
      "_________________________________________________________________\n",
      "lstm (LSTM)                  (None, 256)               2360320   \n",
      "=================================================================\n",
      "Total params: 25,925,120\n",
      "Trainable params: 0\n",
      "Non-trainable params: 25,925,120\n",
      "_________________________________________________________________\n"
     ]
    }
   ],
   "source": [
    "# Create face emb model\n",
    "model_face_emb = Model(inputs=model_face.input, outputs=model_face.get_layer(\"lstm\").output)\n",
    "# model_face_emb.trainable = False\n",
    "model_face_emb.summary()"
   ]
  },
  {
   "cell_type": "code",
   "execution_count": 16,
   "id": "d7edc18a-42d9-4327-96f5-c238bd0e6bdd",
   "metadata": {},
   "outputs": [
    {
     "name": "stdout",
     "output_type": "stream",
     "text": [
      "Model: \"model_3\"\n",
      "_________________________________________________________________\n",
      "Layer (type)                 Output Shape              Param #   \n",
      "=================================================================\n",
      "input_embedding (InputLayer) [(None, 1024)]            0         \n",
      "_________________________________________________________________\n",
      "dense_2 (Dense)              (None, 512)               524800    \n",
      "_________________________________________________________________\n",
      "aud_emb (Dense)              (None, 256)               131328    \n",
      "=================================================================\n",
      "Total params: 656,128\n",
      "Trainable params: 131,328\n",
      "Non-trainable params: 524,800\n",
      "_________________________________________________________________\n"
     ]
    }
   ],
   "source": [
    "# Create aud emb model\n",
    "aud_op = Dense(256, name='aud_emb')(model_aud.get_layer(\"dense_2\").output)\n",
    "\n",
    "model_aud_emb = Model(inputs=model_aud.inputs, outputs = aud_op)\n",
    "model_aud_emb.summary()"
   ]
  },
  {
   "cell_type": "code",
   "execution_count": null,
   "id": "3bc7d3f6-dd36-4a32-896c-fa3bc884863a",
   "metadata": {},
   "outputs": [],
   "source": []
  },
  {
   "cell_type": "code",
   "execution_count": 17,
   "id": "4c508782-0913-4a2d-8f36-65a47f9b3966",
   "metadata": {},
   "outputs": [
    {
     "name": "stdout",
     "output_type": "stream",
     "text": [
      "Model: \"model_4\"\n",
      "__________________________________________________________________________________________________\n",
      "Layer (type)                    Output Shape         Param #     Connected to                     \n",
      "==================================================================================================\n",
      "input_token (InputLayer)        [(None, 64)]         0                                            \n",
      "__________________________________________________________________________________________________\n",
      "masked_token (InputLayer)       [(None, 64)]         0                                            \n",
      "__________________________________________________________________________________________________\n",
      "input_4 (InputLayer)            [(None, 30, 224, 224 0                                            \n",
      "__________________________________________________________________________________________________\n",
      "input_2 (InputLayer)            [(None, 30, 224, 224 0                                            \n",
      "__________________________________________________________________________________________________\n",
      "input_embedding (InputLayer)    [(None, 1024)]       0                                            \n",
      "__________________________________________________________________________________________________\n",
      "tf_bert_model (TFBertModel)     TFBaseModelOutputWit 109482240   input_token[0][0]                \n",
      "                                                                 masked_token[0][0]               \n",
      "__________________________________________________________________________________________________\n",
      "time_distributed_1 (TimeDistrib (None, 30, 2048)     42626560    input_4[0][0]                    \n",
      "__________________________________________________________________________________________________\n",
      "time_distributed (TimeDistribut (None, 30, 2048)     23564800    input_2[0][0]                    \n",
      "__________________________________________________________________________________________________\n",
      "dense_2 (Dense)                 (None, 512)          524800      input_embedding[0][0]            \n",
      "__________________________________________________________________________________________________\n",
      "global_average_pooling1d (Globa (None, 768)          0           tf_bert_model[0][0]              \n",
      "__________________________________________________________________________________________________\n",
      "lstm_1 (LSTM)                   (None, 256)          2360320     time_distributed_1[0][0]         \n",
      "__________________________________________________________________________________________________\n",
      "lstm (LSTM)                     (None, 256)          2360320     time_distributed[0][0]           \n",
      "__________________________________________________________________________________________________\n",
      "aud_emb (Dense)                 (None, 256)          131328      dense_2[0][0]                    \n",
      "__________________________________________________________________________________________________\n",
      "txt_emb (Dense)                 (None, 128)          98432       global_average_pooling1d[0][0]   \n",
      "__________________________________________________________________________________________________\n",
      "concatenate (Concatenate)       (None, 896)          0           lstm_1[0][0]                     \n",
      "                                                                 lstm[0][0]                       \n",
      "                                                                 aud_emb[0][0]                    \n",
      "                                                                 txt_emb[0][0]                    \n",
      "__________________________________________________________________________________________________\n",
      "dense_comb (Dense)              (None, 512)          459264      concatenate[0][0]                \n",
      "__________________________________________________________________________________________________\n",
      "dense_comb1 (Dense)             (None, 256)          131328      dense_comb[0][0]                 \n",
      "__________________________________________________________________________________________________\n",
      "dense_op (Dense)                (None, 5)            1285        dense_comb1[0][0]                \n",
      "==================================================================================================\n",
      "Total params: 181,740,677\n",
      "Trainable params: 821,637\n",
      "Non-trainable params: 180,919,040\n",
      "__________________________________________________________________________________________________\n"
     ]
    }
   ],
   "source": [
    "# Create multimodal\n",
    "concat_inp = concatenate([model_env_emb.output, model_face_emb.output, model_aud_emb.output, model_text_emb.output])\n",
    "x = Dense(512, activation=\"relu\", name=\"dense_comb\")(concat_inp)\n",
    "x = Dense(256, activation=\"relu\", name=\"dense_comb1\")(x)\n",
    "x = Dense(5, activation=\"sigmoid\",  name=\"dense_op\")(x)\n",
    "\n",
    "model = Model(inputs=[model_env_emb.input, model_face_emb.input, model_aud_emb.input, model_text.input], outputs=x)\n",
    "\n",
    "model.summary()"
   ]
  },
  {
   "cell_type": "code",
   "execution_count": null,
   "id": "904903f6-ba2e-4295-b5e8-424923e941f5",
   "metadata": {},
   "outputs": [],
   "source": []
  },
  {
   "cell_type": "code",
   "execution_count": null,
   "id": "aec320c7-ed9e-4944-aba1-4d8fce4c2013",
   "metadata": {},
   "outputs": [],
   "source": []
  },
  {
   "cell_type": "code",
   "execution_count": null,
   "id": "040267a5-4fce-4e9a-a1cd-c04d6e877c85",
   "metadata": {},
   "outputs": [],
   "source": []
  },
  {
   "cell_type": "code",
   "execution_count": 18,
   "id": "21695c1e-6388-4057-96fc-88c97d6f9ef1",
   "metadata": {},
   "outputs": [],
   "source": [
    "# # Save multimodal\n",
    "# model.save(\"multimodal_architechture_definition.h5\")"
   ]
  },
  {
   "cell_type": "code",
   "execution_count": 19,
   "id": "1976da6a-8a0d-4d31-b6a1-00fbfb566d44",
   "metadata": {},
   "outputs": [],
   "source": [
    "# # clear all models\n",
    "# from tensorflow.keras.backend import clear_session\n",
    "# import gc\n",
    "\n",
    "\n",
    "# clear_session()\n",
    "# gc.collect()"
   ]
  },
  {
   "cell_type": "code",
   "execution_count": null,
   "id": "35d54d04-b882-420d-91f8-7dc1d304cf85",
   "metadata": {},
   "outputs": [],
   "source": []
  },
  {
   "cell_type": "code",
   "execution_count": 20,
   "id": "f7e41898-1543-4b63-83e3-5f32e4ff1475",
   "metadata": {},
   "outputs": [],
   "source": [
    "# # Delete all unwanted model\n",
    "# del model_aud\n",
    "# del model_face\n",
    "# del model_text\n",
    "# del model_env\n",
    "# del model_aud_emb\n",
    "# del model_face_emb\n",
    "# del model_env_emb\n",
    "# del model_text_emb"
   ]
  },
  {
   "cell_type": "code",
   "execution_count": 21,
   "id": "587d7623-7dc4-47ee-ab4f-be4a211c3b50",
   "metadata": {},
   "outputs": [],
   "source": [
    "# Load base multimodal architechture"
   ]
  },
  {
   "cell_type": "code",
   "execution_count": 22,
   "id": "6902f45a-443c-47cd-9ca4-2a77f25122b3",
   "metadata": {},
   "outputs": [],
   "source": [
    "# model = tf.keras.models.load_model(\"multimodal_architechture_definition.h5\", custom_objects={\"mean_acc\": mean_acc, \"TFBertModel\": transformers.TFBertModel})"
   ]
  },
  {
   "cell_type": "code",
   "execution_count": 23,
   "id": "b11e7ac4-4b1e-46ab-adc5-035b57fb5551",
   "metadata": {},
   "outputs": [
    {
     "data": {
      "image/png": "[encoded data removed]",
      "text/plain": [
       "<IPython.core.display.Image object>"
      ]
     },
     "execution_count": 23,
     "metadata": {},
     "output_type": "execute_result"
    }
   ],
   "source": [
    "tf.keras.utils.plot_model(model)"
   ]
  },
  {
   "cell_type": "code",
   "execution_count": 24,
   "id": "574bfa53-342e-4ce3-b409-54a78ba0a47c",
   "metadata": {},
   "outputs": [
    {
     "name": "stdout",
     "output_type": "stream",
     "text": [
      "Model: \"model_4\"\n",
      "__________________________________________________________________________________________________\n",
      "Layer (type)                    Output Shape         Param #     Connected to                     \n",
      "==================================================================================================\n",
      "input_token (InputLayer)        [(None, 64)]         0                                            \n",
      "__________________________________________________________________________________________________\n",
      "masked_token (InputLayer)       [(None, 64)]         0                                            \n",
      "__________________________________________________________________________________________________\n",
      "input_4 (InputLayer)            [(None, 30, 224, 224 0                                            \n",
      "__________________________________________________________________________________________________\n",
      "input_2 (InputLayer)            [(None, 30, 224, 224 0                                            \n",
      "__________________________________________________________________________________________________\n",
      "input_embedding (InputLayer)    [(None, 1024)]       0                                            \n",
      "__________________________________________________________________________________________________\n",
      "tf_bert_model (TFBertModel)     TFBaseModelOutputWit 109482240   input_token[0][0]                \n",
      "                                                                 masked_token[0][0]               \n",
      "__________________________________________________________________________________________________\n",
      "time_distributed_1 (TimeDistrib (None, 30, 2048)     42626560    input_4[0][0]                    \n",
      "__________________________________________________________________________________________________\n",
      "time_distributed (TimeDistribut (None, 30, 2048)     23564800    input_2[0][0]                    \n",
      "__________________________________________________________________________________________________\n",
      "dense_2 (Dense)                 (None, 512)          524800      input_embedding[0][0]            \n",
      "__________________________________________________________________________________________________\n",
      "global_average_pooling1d (Globa (None, 768)          0           tf_bert_model[0][0]              \n",
      "__________________________________________________________________________________________________\n",
      "lstm_1 (LSTM)                   (None, 256)          2360320     time_distributed_1[0][0]         \n",
      "__________________________________________________________________________________________________\n",
      "lstm (LSTM)                     (None, 256)          2360320     time_distributed[0][0]           \n",
      "__________________________________________________________________________________________________\n",
      "aud_emb (Dense)                 (None, 256)          131328      dense_2[0][0]                    \n",
      "__________________________________________________________________________________________________\n",
      "txt_emb (Dense)                 (None, 128)          98432       global_average_pooling1d[0][0]   \n",
      "__________________________________________________________________________________________________\n",
      "concatenate (Concatenate)       (None, 896)          0           lstm_1[0][0]                     \n",
      "                                                                 lstm[0][0]                       \n",
      "                                                                 aud_emb[0][0]                    \n",
      "                                                                 txt_emb[0][0]                    \n",
      "__________________________________________________________________________________________________\n",
      "dense_comb (Dense)              (None, 512)          459264      concatenate[0][0]                \n",
      "__________________________________________________________________________________________________\n",
      "dense_comb1 (Dense)             (None, 256)          131328      dense_comb[0][0]                 \n",
      "__________________________________________________________________________________________________\n",
      "dense_op (Dense)                (None, 5)            1285        dense_comb1[0][0]                \n",
      "==================================================================================================\n",
      "Total params: 181,740,677\n",
      "Trainable params: 821,637\n",
      "Non-trainable params: 180,919,040\n",
      "__________________________________________________________________________________________________\n"
     ]
    }
   ],
   "source": [
    "model.summary()"
   ]
  },
  {
   "cell_type": "code",
   "execution_count": null,
   "id": "b42f0400-531a-440b-a314-3deb7c932992",
   "metadata": {},
   "outputs": [],
   "source": []
  },
  {
   "cell_type": "markdown",
   "id": "58dd48b0-f000-401b-9569-6f6917882392",
   "metadata": {},
   "source": [
    "# Audio processing"
   ]
  },
  {
   "cell_type": "code",
   "execution_count": 25,
   "id": "ea71f0b6-cb50-4baf-a0f8-345ada58ac8e",
   "metadata": {},
   "outputs": [],
   "source": [
    "# Utility functions for loading audio files and making sure the sample rate is correct.\n",
    "import tensorflow_io as tfio\n",
    "\n",
    "\n",
    "@tf.function\n",
    "def load_wav_16k_mono(filename):\n",
    "    \"\"\" Load a WAV file, convert it to a float tensor, resample to 16 kHz single-channel audio. \"\"\"\n",
    "    file_contents = tf.io.read_file(filename)\n",
    "    wav, sample_rate = tf.audio.decode_wav(\n",
    "          file_contents,\n",
    "          desired_channels=1)\n",
    "    wav = tf.squeeze(wav, axis=-1)\n",
    "    sample_rate = tf.cast(sample_rate, dtype=tf.int64)\n",
    "    wav = tfio.audio.resample(wav, rate_in=sample_rate, rate_out=16000)\n",
    "    return wav"
   ]
  },
  {
   "cell_type": "code",
   "execution_count": 26,
   "id": "6e2e7d4e-d1d5-4acf-be87-6323632e4f5e",
   "metadata": {},
   "outputs": [],
   "source": [
    "# def load_wav_for_map1(filename, label):\n",
    "#     return load_wav_16k_mono(filename)"
   ]
  },
  {
   "cell_type": "code",
   "execution_count": 27,
   "id": "54e42d67-2c52-4f98-acba-93734642473c",
   "metadata": {},
   "outputs": [],
   "source": [
    "import tensorflow_hub as hub\n",
    "\n",
    "\n",
    "# load yamnet model\n",
    "yamnet_model_handle = 'https://tfhub.dev/google/yamnet/1'\n",
    "yamnet_model = hub.load(yamnet_model_handle)\n",
    "\n",
    "\n",
    "# applies the embedding extraction model to a wav data\n",
    "@tf.function\n",
    "def extract_embedding(wav_data):\n",
    "    ''' run YAMNet to extract embedding from the wav data '''\n",
    "    \n",
    "    file_contents = tf.io.read_file(wav_data)\n",
    "    wav, sample_rate = tf.audio.decode_wav(\n",
    "          file_contents,\n",
    "          desired_channels=1)\n",
    "    wav = tf.squeeze(wav, axis=-1)\n",
    "    sample_rate = tf.cast(sample_rate, dtype=tf.int64)\n",
    "    wav_data = tfio.audio.resample(wav, rate_in=sample_rate, rate_out=16000)\n",
    "    \n",
    "    scores, embeddings, spectrogram = yamnet_model(wav_data)\n",
    "    print(embeddings)\n",
    "    \n",
    "    # embeddings = tf.math.reduce_mean(embeddings, axis=0)\n",
    "    \n",
    "    num_embeddings = tf.shape(embeddings)[0]\n",
    "    # print(tf.shape(embeddings)[0])\n",
    "    \n",
    "    # use reduce mean to calculate mean of array along axis 1 (mean of column value)\n",
    "    return tf.math.reduce_mean(embeddings, axis=0)\n"
   ]
  },
  {
   "cell_type": "code",
   "execution_count": null,
   "id": "091f061d-55c6-4d91-b34e-3dd32e7e5a38",
   "metadata": {},
   "outputs": [],
   "source": []
  },
  {
   "cell_type": "markdown",
   "id": "4b5405bf-2ef5-4714-9bbf-85981f18ca37",
   "metadata": {},
   "source": [
    "# Text processing"
   ]
  },
  {
   "cell_type": "code",
   "execution_count": 28,
   "id": "354c8b48-a086-452e-abb6-2633b537833f",
   "metadata": {},
   "outputs": [],
   "source": [
    "import pickle as pkl\n",
    "\n",
    "\n",
    "def get_feature_tf_data(filenames):\n",
    "    with open(\"bert_feature.pkl\", 'rb') as f:\n",
    "        train_feature = pkl.load(f)\n",
    "    filenames = filenames.numpy().decode('utf-8')\n",
    "    return np.array(train_feature[filenames]['input_ids']), np.array(train_feature[filenames]['attention_mask'])"
   ]
  },
  {
   "cell_type": "code",
   "execution_count": 29,
   "id": "5714dea7-da78-4ab2-8bc6-fd4dbfbf8bc1",
   "metadata": {},
   "outputs": [],
   "source": [
    "# create tf dataset feature for test data\n",
    "\n",
    "def get_feature_tf_data_test(filenames):\n",
    "    with open(\"bert_feature_test.pkl\", 'rb') as f:\n",
    "        train_feature = pkl.load(f)\n",
    "    filenames = filenames.numpy().decode('utf-8')\n",
    "    return np.array(train_feature[filenames]['input_ids']), np.array(train_feature[filenames]['attention_mask']) "
   ]
  },
  {
   "cell_type": "markdown",
   "id": "6a82f1d6-e0a1-4d5b-88d5-5f83eb6d04d9",
   "metadata": {},
   "source": [
    "# Video based preprocessing"
   ]
  },
  {
   "cell_type": "code",
   "execution_count": 30,
   "id": "fcea29a1-d768-4fbd-a6db-bcfca842fc56",
   "metadata": {},
   "outputs": [],
   "source": [
    "import tensorflow as tf\n",
    "import cv2\n",
    "\n",
    "\n",
    "def format_frames(frame, output_size):\n",
    "    \"\"\"\n",
    "        Pad and resize an image from a video.\n",
    "\n",
    "        Args:\n",
    "          frame: Image that needs to resized and padded. \n",
    "          output_size: Pixel size of the output frame image.\n",
    "\n",
    "        Return:\n",
    "          Formatted frame with padding of specified output size.\n",
    "    \"\"\"\n",
    "    frame = tf.image.convert_image_dtype(frame, tf.float32)\n",
    "    frame = tf.image.resize_with_pad(frame, *output_size)\n",
    "    return tf.keras.applications.resnet_v2.preprocess_input(frame)\n",
    "    # return frame"
   ]
  },
  {
   "cell_type": "code",
   "execution_count": 31,
   "id": "6499e363-2053-46a2-b461-83d84bba67bc",
   "metadata": {},
   "outputs": [],
   "source": [
    "# tf dataset generator\n",
    "class MetaGenerator:\n",
    "    def __init__(self, df, n_frames, training = False):\n",
    "        \"\"\" Returns a set of frames with their associated label. \n",
    "            Args:\n",
    "                path: Video file paths.\n",
    "                n_frames: Number of frames. \n",
    "                training: Boolean to determine if training dataset is being created.\n",
    "        \"\"\"\n",
    "        self.df = df\n",
    "        self.n_frames = n_frames\n",
    "        self.training = training\n",
    "  \n",
    "\n",
    "    def __call__(self):\n",
    "        if self.training:\n",
    "            import sklearn\n",
    "            self.df = sklearn.utils.shuffle(self.df)\n",
    "            \n",
    "        for files in self.df.itertuples():\n",
    "            # video_frames = frames_from_video_file(files.file_path, self.n_frames)\n",
    "            video_frames = files.file_path\n",
    "            openness = files.openness\n",
    "            conscientiousness = files.conscientiousness\n",
    "            extraversion = files.extraversion\n",
    "            agreeableness = files.agreeableness\n",
    "            neuroticism = files.neuroticism\n",
    "            \n",
    "            label = np.array([files.openness, files.conscientiousness ,files.extraversion, files.agreeableness, files.neuroticism])\n",
    "            \n",
    "            yield video_frames, files.audio_path, files.filenames, label\n",
    "            # return video_frames, label\n",
    "            "
   ]
  },
  {
   "cell_type": "code",
   "execution_count": 32,
   "id": "fd60f3be-08f5-4f8d-b171-5500dc6bd874",
   "metadata": {},
   "outputs": [],
   "source": [
    "from time import time\n",
    "import facealignment\n",
    "\n",
    "\n",
    "tools = facealignment.FaceAlignmentTools()\n",
    "\n",
    "@tf.function\n",
    "def video_audio_map(video_path, audio_path, filenames, label, n_frames, training=True,output_size = (224,224), frame_step = 15):\n",
    "    \"\"\"\n",
    "        Creates frames from each video file present for each category.\n",
    "\n",
    "        Args:\n",
    "          video_path: File path to the video.\n",
    "          audio_path: Audio file to process for embeddings\n",
    "          n_frames: Number of frames to be created per video file.\n",
    "          output_size: Pixel size of the output frame image.\n",
    "\n",
    "        Return:\n",
    "          An NumPy array of frames in the shape of (n_frames, height, width, channels).\n",
    "    \"\"\"\n",
    "    # Read each video frame by frame\n",
    "    result = []\n",
    "    \n",
    "    # face_results\n",
    "    face_result = []\n",
    "    \n",
    "    src = cv2.VideoCapture(str(video_path))  \n",
    "\n",
    "    video_length = src.get(cv2.CAP_PROP_FRAME_COUNT)\n",
    "\n",
    "    need_length = 1 + (n_frames - 1) * frame_step\n",
    "\n",
    "    if need_length > video_length:\n",
    "        start = 0\n",
    "    else:\n",
    "        max_start = video_length - need_length\n",
    "        start = random.randint(0, max_start + 1)\n",
    "\n",
    "    src.set(cv2.CAP_PROP_POS_FRAMES, start)\n",
    "    # ret is a boolean indicating whether read was successful, frame is the image itself\n",
    "    ret, frame = src.read()\n",
    "    if ret:\n",
    "        st = time()\n",
    "        \n",
    "        ft_time = time()\n",
    "        result.append(format_frames(frame, output_size))\n",
    "        \n",
    "        # align face\n",
    "        face = tools.align(frame)\n",
    "        \n",
    "        if face is not None:\n",
    "            ft_time = time()\n",
    "            face_result.append(format_frames(face, output_size))\n",
    "            print(f\"Time for formating frame:- {time() - ft_time}\")\n",
    "        else:\n",
    "            er_t = time()\n",
    "            face_result.append(np.zeros_like(np.random.rand(224, 224, 3)))\n",
    "            print(f\"Append random array of req shape:- {time() - er_t}\")\n",
    "        \n",
    "    else:\n",
    "        er_t = time()\n",
    "        result.append(np.zeros_like(np.random.rand(224, 224, 3)))\n",
    "        \n",
    "        # face result\n",
    "        face_result.append(np.zeros_like(np.random.rand(224, 224, 3)))\n",
    "        \n",
    "    s = time()\n",
    "    for _ in range(n_frames - 1):\n",
    "        for _ in range(frame_step):\n",
    "            ret, frame = src.read()\n",
    "        if ret:\n",
    "            ft_time = time()\n",
    "            fr = format_frames(frame, output_size)\n",
    "            result.append(fr)\n",
    "            \n",
    "            # for face\n",
    "            face = tools.align(frame)\n",
    "            # face = mtcnn(frame)\n",
    "            \n",
    "            if face is not None:\n",
    "                ft_time = time()\n",
    "                face = format_frames(face, output_size)\n",
    "                face_result.append(face)\n",
    "            else:\n",
    "                er_t = time()\n",
    "                face_result.append(np.zeros_like(np.random.rand(224, 224, 3)))\n",
    "\n",
    "        else:\n",
    "            er_t = time()\n",
    "            result.append(np.zeros_like(np.random.rand(224, 224, 3)))\n",
    "            face_result.append(np.zeros_like(np.random.rand(224, 224, 3)))\n",
    "            \n",
    "            # print(f\"Append random array of req shape:- {time() - er_t}\")\n",
    "          \n",
    "    # print(f\"Time for getting aligned face from n-1 frame:- {time() - s}\")\n",
    "    src.release()\n",
    "    if len(result) < n_frames:\n",
    "        print(len(result))\n",
    "    \n",
    "    result = np.array(result)[..., [2, 1, 0]]\n",
    "    face_result = np.array(face_result)[..., [2, 1, 0]]\n",
    "    \n",
    "    # audio processing\n",
    "    # aud = load_wav_16k_mono(audio_path)\n",
    "    aud = audio_path\n",
    "    aud = extract_embedding(aud)\n",
    "    \n",
    "    # text processing\n",
    "    if training:\n",
    "        txt_inp, txt_mask = tf.py_function(get_feature_tf_data, [filenames], [tf.int64, tf.int64])\n",
    "    if training == False:\n",
    "        txt_inp, txt_mask = tf.py_function(get_feature_tf_data_test, [filenames], [tf.int64, tf.int64])\n",
    "    return result, face_result, aud, txt_inp, txt_mask, label"
   ]
  },
  {
   "cell_type": "markdown",
   "id": "287a10b7-02cf-4d0d-ab36-8abfd20cd435",
   "metadata": {},
   "source": [
    "# Custom checkpoint"
   ]
  },
  {
   "cell_type": "code",
   "execution_count": 33,
   "id": "56cddac2-c0e0-420d-849b-bdcf61babf45",
   "metadata": {},
   "outputs": [],
   "source": [
    "import os\n",
    "\n",
    "def generate_output_dir(outdir, run_desc):\n",
    "    prev_run_dirs = []\n",
    "    if os.path.isdir(outdir):\n",
    "        prev_run_dirs = [x for x in os.listdir(outdir) if os.path.isdir(\\\n",
    "            os.path.join(outdir, x))]\n",
    "    prev_run_ids = [re.match(r'^\\d+', x) for x in prev_run_dirs]\n",
    "    prev_run_ids = [int(x.group()) for x in prev_run_ids if x is not None]\n",
    "    cur_run_id = max(prev_run_ids, default=-1) + 1\n",
    "    run_dir = os.path.join(outdir, f'{cur_run_id:05d}-{run_desc}')\n",
    "    assert not os.path.exists(run_dir)\n",
    "    os.makedirs(run_dir)\n",
    "    return run_dir"
   ]
  },
  {
   "cell_type": "code",
   "execution_count": 34,
   "id": "2ad65126-c164-4933-b598-9549b9731b99",
   "metadata": {},
   "outputs": [
    {
     "name": "stdout",
     "output_type": "stream",
     "text": [
      "Results saved to: ./checkpoint/multimodal/00000-multimodal_personality\n"
     ]
    }
   ],
   "source": [
    "import re\n",
    "\n",
    "\n",
    "outdir = \"./checkpoint/multimodal/\"\n",
    "if not os.path.isdir(outdir):\n",
    "    os.mkdir(outdir)\n",
    "\n",
    "run_desc = \"multimodal_personality\"\n",
    "\n",
    "run_dir = generate_output_dir(outdir, run_desc)\n",
    "print(f\"Results saved to: {run_dir}\")"
   ]
  },
  {
   "cell_type": "code",
   "execution_count": 35,
   "id": "dc5914f2-4f87-4a1a-851d-c4b02dea2578",
   "metadata": {},
   "outputs": [],
   "source": [
    "from tensorflow.keras.callbacks import EarlyStopping, ReduceLROnPlateau, ModelCheckpoint\n",
    "\n",
    "\n",
    "class MyModelCheckpoint(ModelCheckpoint):\n",
    "    def __init__(self, *args, **kwargs):\n",
    "        super().__init__(*args, **kwargs)\n",
    "    def on_epoch_end(self, epoch, logs=None):\n",
    "        super().on_epoch_end(epoch,logs)\n",
    "\n",
    "        # Also save the optimizer state\n",
    "        filepath = self._get_file_path(epoch=epoch, \n",
    "                                       logs=logs, \n",
    "                                       # batch=None\n",
    "                                      )\n",
    "\n",
    "        filepath = filepath.rsplit( \".\", 1 )[ 0 ] \n",
    "        filepath += \".pkl\"\n",
    "\n",
    "        with open(filepath, 'wb') as fp:\n",
    "            pickle.dump(\n",
    "            {\n",
    "                'opt': model.optimizer.get_config(),\n",
    "                'epoch': epoch+1,\n",
    "                'lr': model.optimizer.learning_rate\n",
    "                \n",
    "             # Add additional keys if you need to store more values\n",
    "            }, fp, protocol=pickle.HIGHEST_PROTOCOL)\n",
    "        print('\\nEpoch %05d: saving optimizaer to %s' % (epoch + 1, filepath))"
   ]
  },
  {
   "cell_type": "code",
   "execution_count": 36,
   "id": "4bf5d928-1d4e-4712-bcbd-e0a12631ad9b",
   "metadata": {},
   "outputs": [
    {
     "name": "stderr",
     "output_type": "stream",
     "text": [
      "2023-02-04 08:29:11.863211: I tensorflow/core/profiler/lib/profiler_session.cc:126] Profiler session initializing.\n",
      "2023-02-04 08:29:11.863238: I tensorflow/core/profiler/lib/profiler_session.cc:141] Profiler session started.\n",
      "2023-02-04 08:29:11.864372: I tensorflow/core/profiler/internal/gpu/cupti_tracer.cc:1611] Profiler found 1 GPUs\n",
      "2023-02-04 08:29:11.866310: W tensorflow/stream_executor/platform/default/dso_loader.cc:64] Could not load dynamic library 'libcupti.so.11.2'; dlerror: libcupti.so.11.2: cannot open shared object file: No such file or directory\n",
      "2023-02-04 08:29:11.883778: I tensorflow/stream_executor/platform/default/dso_loader.cc:53] Successfully opened dynamic library libcupti.so\n",
      "2023-02-04 08:29:11.986361: E tensorflow/core/profiler/internal/gpu/cupti_tracer.cc:1661] function cupti_interface_->Subscribe( &subscriber_, (CUpti_CallbackFunc)ApiCallback, this)failed with error CUPTI_ERROR_INSUFFICIENT_PRIVILEGES\n",
      "2023-02-04 08:29:11.986441: I tensorflow/core/profiler/lib/profiler_session.cc:159] Profiler session tear down.\n"
     ]
    }
   ],
   "source": [
    "from tensorflow.keras.callbacks import ReduceLROnPlateau, TensorBoard\n",
    "\n",
    "\n",
    "checkpoint = MyModelCheckpoint(os.path.join(run_dir, 'text-personality-model-{epoch:02d}-{val_loss:.2f}.h5'),\n",
    "        monitor='val_loss',verbose=1, save_best_only=True, mode='auto')\n",
    "\n",
    "\n",
    "# tensorboard callback to visualize progress and memory bottleneck\n",
    "tboard = TensorBoard(\n",
    "    log_dir='./logs_tboard/logs',\n",
    "    histogram_freq=0,\n",
    "    write_graph=True,\n",
    "    write_images=False,\n",
    "    write_steps_per_second=False,\n",
    "    update_freq='epoch',\n",
    "    profile_batch='500,520',\n",
    ")\n",
    "\n",
    "\n",
    "# reduce lr on plateau\n",
    "reduce_lr = ReduceLROnPlateau(monitor='val_mean_acc', factor=0.5, patience=2, \n",
    "                                   verbose=1, mode='min', min_lr=0.0000000001)\n",
    "\n",
    "callbacks_list = [checkpoint, reduce_lr, tboard]"
   ]
  },
  {
   "cell_type": "markdown",
   "id": "1d2a0084-44fd-4972-8d40-b6f32a4036d8",
   "metadata": {},
   "source": [
    "# Create data"
   ]
  },
  {
   "cell_type": "code",
   "execution_count": 37,
   "id": "9426c399-d91a-4264-a368-b8d1a41534c9",
   "metadata": {},
   "outputs": [],
   "source": [
    "import pandas as pd\n",
    "from tqdm import tqdm\n",
    "\n",
    "tqdm.pandas()\n",
    "\n",
    "\n",
    "def combine_all_data(split='train'):\n",
    "    train_df = pd.read_csv(f\"first_impression_{split}.csv\")\n",
    "    train_df_aud = pd.read_csv(f\"first_impression_audio_{split}.csv\")\n",
    "\n",
    "    train_df_aud.drop(['extraversion', 'neuroticism', 'agreeableness', 'conscientiousness',\n",
    "           'interview', 'openness', 'file'], axis=1, inplace=True)\n",
    "    train_df_aud.columns = ['file_name', 'audio_path']\n",
    "\n",
    "    train_df = train_df.merge(train_df_aud, on='file_name')\n",
    "\n",
    "    train_text_df = pd.read_csv(f\"first_impression_text_{split}_annot.csv\")\n",
    "    train_text_df.drop(['extraversion', 'neuroticism', 'agreeableness', 'conscientiousness',\n",
    "           'interview', 'openness','file_path_video', 'file_path_audio'], axis=1, inplace=True)\n",
    "\n",
    "    train_text_df['file_name'] = train_text_df.filenames.progress_apply(lambda x: x + '.mp4')\n",
    "    train_df = train_df.merge(train_text_df, on='file_name')\n",
    "\n",
    "    train_df.to_csv(f\"first_impression_complete_annot_{split}.csv\", index=False)\n",
    "    \n",
    "    return train_df"
   ]
  },
  {
   "cell_type": "code",
   "execution_count": 38,
   "id": "a4aa1b4a-db2b-480d-9551-7835dcc67620",
   "metadata": {},
   "outputs": [
    {
     "name": "stderr",
     "output_type": "stream",
     "text": [
      "100%|███████████████████████████████████████████████████████████████████████████| 6000/6000 [00:00<00:00, 997140.19it/s]\n"
     ]
    }
   ],
   "source": [
    "train_df = combine_all_data()"
   ]
  },
  {
   "cell_type": "code",
   "execution_count": 39,
   "id": "92122f7d-d19a-49fa-830c-f6da5677e2a3",
   "metadata": {},
   "outputs": [
    {
     "name": "stderr",
     "output_type": "stream",
     "text": [
      "100%|███████████████████████████████████████████████████████████████████████████| 2000/2000 [00:00<00:00, 917389.33it/s]\n"
     ]
    }
   ],
   "source": [
    "val_df = combine_all_data(split='val')"
   ]
  },
  {
   "cell_type": "code",
   "execution_count": 40,
   "id": "fc0f6bc8-7649-4835-bc7d-36eb60a67827",
   "metadata": {},
   "outputs": [],
   "source": [
    "# split train test\n",
    "train_df, test_df = train_test_split(train_df, test_size = 0.2)"
   ]
  },
  {
   "cell_type": "code",
   "execution_count": 41,
   "id": "bb692c86-813e-4a44-bd73-ff0aee8eeca5",
   "metadata": {},
   "outputs": [],
   "source": [
    "# train_df = train_df.sample(n=20)"
   ]
  },
  {
   "cell_type": "code",
   "execution_count": 42,
   "id": "d2df89bf-ca9c-4321-b2c0-3958b5f5de85",
   "metadata": {},
   "outputs": [],
   "source": [
    "# define batch size and steps per epochs\n",
    "train_batch_size = val_batch_size = 8\n",
    "\n",
    "\n",
    "train_steps = len(train_df)//train_batch_size\n",
    "val_steps = len(test_df)//val_batch_size\n"
   ]
  },
  {
   "cell_type": "code",
   "execution_count": null,
   "id": "95dbea5d-5632-48eb-9707-80298e20de5c",
   "metadata": {},
   "outputs": [],
   "source": []
  },
  {
   "cell_type": "code",
   "execution_count": null,
   "id": "6da7fa0b-83a8-45d5-abb9-6cc99618dd26",
   "metadata": {},
   "outputs": [],
   "source": []
  },
  {
   "cell_type": "code",
   "execution_count": null,
   "id": "3043a02c-0c2f-485e-a213-74183e4bb187",
   "metadata": {},
   "outputs": [],
   "source": []
  },
  {
   "cell_type": "code",
   "execution_count": 43,
   "id": "8f7636e5-4f2c-40b9-9448-f6b58e9a102a",
   "metadata": {},
   "outputs": [],
   "source": [
    "# comb_mod.inputs"
   ]
  },
  {
   "cell_type": "code",
   "execution_count": 44,
   "id": "074beead-36d2-4e1a-8e36-474bc428b8e4",
   "metadata": {},
   "outputs": [
    {
     "name": "stderr",
     "output_type": "stream",
     "text": [
      "2023-02-04 08:29:13.032596: I tensorflow_io/core/kernels/cpu_check.cc:128] Your CPU supports instructions that this TensorFlow IO binary was not compiled to use: AVX2 AVX512F FMA\n"
     ]
    },
    {
     "name": "stdout",
     "output_type": "stream",
     "text": [
      "WARNING:tensorflow:Using a while_loop for converting IO>AudioResample\n"
     ]
    },
    {
     "name": "stderr",
     "output_type": "stream",
     "text": [
      "WARNING:tensorflow:Using a while_loop for converting IO>AudioResample\n"
     ]
    },
    {
     "name": "stdout",
     "output_type": "stream",
     "text": [
      "Tensor(\"StatefulPartitionedCall:1\", shape=(None, 1024), dtype=float32)\n"
     ]
    }
   ],
   "source": [
    "n_frames = 30\n",
    "train_batch_size = val_batch_size = 8\n",
    "\n",
    "\n",
    "# create tf data\n",
    "# train data\n",
    "train_ds = tf.data.Dataset.from_generator(MetaGenerator(train_df, n_frames, training=True), (tf.string, tf.string, tf.string, tf.float32))\n",
    "train_ds = train_ds.map(lambda vid_pth, aud_pth, txt_pth, lbl: video_audio_map(vid_pth, aud_pth, txt_pth, lbl, 30, training=True), tf.data.AUTOTUNE)\n",
    "train_ds = train_ds.map(\n",
    "    lambda frame, face, audio, text_inp, text_mask, label: (\n",
    "        {\n",
    "            \"input_4\": frame,\n",
    "            \"input_2\": face,\n",
    "            \"input_embedding\": audio,\n",
    "            \"input_token\": text_inp,\n",
    "            \"masked_token\": text_mask\n",
    "        }, label))\n",
    "\n",
    "\n",
    "# val data\n",
    "val_ds = tf.data.Dataset.from_generator(MetaGenerator(test_df, n_frames, training=False), (tf.string, tf.string, tf.string, tf.float32))\n",
    "val_ds = val_ds.map(lambda vid_pth, aud_pth, txt_pth, lbl: video_audio_map(vid_pth, aud_pth, txt_pth, lbl, 30, training=True), tf.data.AUTOTUNE)\n",
    "val_ds = val_ds.map(\n",
    "    lambda frame, face, audio, text_inp, text_mask, label: (\n",
    "        {\n",
    "            \"input_4\": frame,\n",
    "            \"input_2\": face,\n",
    "            \"input_embedding\": audio,\n",
    "            \"input_token\": text_inp,\n",
    "            \"masked_token\": text_mask\n",
    "        }, label))\n",
    "\n",
    "\n",
    "# test data\n",
    "test_ds = tf.data.Dataset.from_generator(MetaGenerator(val_df, n_frames, training=False), (tf.string, tf.string, tf.string, tf.float32))\n",
    "test_ds = test_ds.map(lambda vid_pth, aud_pth, txt_pth, lbl: video_audio_map(vid_pth, aud_pth, txt_pth, lbl, 30, training=False), tf.data.AUTOTUNE)\n",
    "test_ds = test_ds.map(\n",
    "    lambda frame, face, audio, text_inp, text_mask, label: (\n",
    "        {\n",
    "            \"input_4\": frame,\n",
    "            \"input_2\": face,\n",
    "            \"input_embedding\": audio,\n",
    "            \"input_token\": text_inp,\n",
    "            \"masked_token\": text_mask\n",
    "        }, label))\n",
    "\n",
    "\n",
    "\n",
    "# for ele in test_ds:\n",
    "#     print(ele)\n",
    "#     break\n",
    "\n"
   ]
  },
  {
   "cell_type": "code",
   "execution_count": 45,
   "id": "b65517c9-1903-45c4-92b0-68d77bb6c84a",
   "metadata": {},
   "outputs": [],
   "source": [
    "# img1 = None\n",
    "# img2 = None\n",
    "\n",
    "# for i,j in enumerate(train_ds):\n",
    "#     img1 = j[0]['input_4'].numpy()    \n",
    "    \n",
    "#     if i == 20:\n",
    "#         img2 = j[0]['input_4'].numpy()\n",
    "#         break\n",
    "    "
   ]
  },
  {
   "cell_type": "code",
   "execution_count": null,
   "id": "fcd6b6e4-773e-46c4-a981-4ecceaad68fe",
   "metadata": {},
   "outputs": [],
   "source": []
  },
  {
   "cell_type": "code",
   "execution_count": 46,
   "id": "d48782eb-d190-489f-9b97-5cd116fd7d9f",
   "metadata": {},
   "outputs": [],
   "source": [
    "\n",
    "train_ds = train_ds.repeat().batch(train_batch_size)\n",
    "val_ds = val_ds.batch(val_batch_size)\n",
    "test_ds = test_ds.batch(val_batch_size)"
   ]
  },
  {
   "cell_type": "code",
   "execution_count": null,
   "id": "1ef19f0e-97e0-4802-9466-62b6175992f9",
   "metadata": {},
   "outputs": [],
   "source": []
  },
  {
   "cell_type": "code",
   "execution_count": 47,
   "id": "f027f13e-b823-45a7-a80d-f20e65f70303",
   "metadata": {},
   "outputs": [],
   "source": [
    "# model = comb_mod"
   ]
  },
  {
   "cell_type": "code",
   "execution_count": 48,
   "id": "feb9be11-c73e-4242-bd00-567e6c1fe745",
   "metadata": {},
   "outputs": [],
   "source": [
    "model.compile(\n",
    "    loss = ['mae'],\n",
    "    # loss = tf.keras.losses.BinaryCrossentropy(from_logits=True), \n",
    "    optimizer = tf.keras.optimizers.Adam(learning_rate = 0.0001), \n",
    "    metrics = [mean_acc]\n",
    ")"
   ]
  },
  {
   "cell_type": "code",
   "execution_count": null,
   "id": "a546b988-0bd7-47b0-b60b-d3883d271b6f",
   "metadata": {},
   "outputs": [],
   "source": []
  },
  {
   "cell_type": "code",
   "execution_count": null,
   "id": "babb8bfe-8383-4195-baf5-522c8c734b06",
   "metadata": {},
   "outputs": [
    {
     "name": "stderr",
     "output_type": "stream",
     "text": [
      "/mount1/miniconda3/envs/tfgpu2.5/lib/python3.8/site-packages/tensorflow/python/keras/utils/generic_utils.py:494: CustomMaskWarning: Custom mask layers require a config and must override get_config. When loading, the custom mask layer must be passed to the custom_objects argument.\n",
      "  warnings.warn('Custom mask layers require a config and must override '\n",
      "2023-02-04 08:29:15.128758: I tensorflow/compiler/mlir/mlir_graph_optimization_pass.cc:176] None of the MLIR Optimization Passes are enabled (registered 2)\n",
      "2023-02-04 08:29:15.129210: I tensorflow/core/platform/profile_utils/cpu_utils.cc:114] CPU Frequency: 2200215000 Hz\n"
     ]
    },
    {
     "name": "stdout",
     "output_type": "stream",
     "text": [
      "Epoch 1/50\n"
     ]
    },
    {
     "name": "stderr",
     "output_type": "stream",
     "text": [
      "2023-02-04 08:29:40.914185: I tensorflow/stream_executor/platform/default/dso_loader.cc:53] Successfully opened dynamic library libcublas.so.11\n",
      "2023-02-04 08:29:45.014099: I tensorflow/stream_executor/platform/default/dso_loader.cc:53] Successfully opened dynamic library libcublasLt.so.11\n",
      "2023-02-04 08:29:45.014177: I tensorflow/stream_executor/cuda/cuda_blas.cc:1838] TensorFloat-32 will be used for the matrix multiplication. This will only be logged once.\n",
      "2023-02-04 08:29:45.014390: I tensorflow/stream_executor/platform/default/dso_loader.cc:53] Successfully opened dynamic library libcudnn.so.8\n",
      "2023-02-04 08:29:48.212350: I tensorflow/stream_executor/cuda/cuda_dnn.cc:359] Loaded cuDNN version 8201\n",
      "2023-02-04 08:29:51.839430: W tensorflow/stream_executor/gpu/asm_compiler.cc:191] Falling back to the CUDA driver for PTX compilation; ptxas does not support CC 8.0\n",
      "2023-02-04 08:29:51.839460: W tensorflow/stream_executor/gpu/asm_compiler.cc:194] Used ptxas at ptxas\n",
      "2023-02-04 08:29:51.839534: W tensorflow/stream_executor/gpu/redzone_allocator.cc:314] Unimplemented: ptxas ptxas too old. Falling back to the driver to compile.\n",
      "Relying on driver to perform ptx compilation. \n",
      "Modify $PATH to customize ptxas location.\n",
      "This message will be only logged once.\n"
     ]
    },
    {
     "name": "stdout",
     "output_type": "stream",
     "text": [
      "499/600 [=======================>......] - ETA: 1:29 - loss: 0.1106 - mean_acc: 0.8894"
     ]
    },
    {
     "name": "stderr",
     "output_type": "stream",
     "text": [
      "2023-02-04 08:37:18.139284: I tensorflow/core/profiler/lib/profiler_session.cc:126] Profiler session initializing.\n",
      "2023-02-04 08:37:18.139318: I tensorflow/core/profiler/lib/profiler_session.cc:141] Profiler session started.\n",
      "2023-02-04 08:37:18.258466: E tensorflow/core/profiler/internal/gpu/cupti_tracer.cc:1661] function cupti_interface_->Subscribe( &subscriber_, (CUpti_CallbackFunc)ApiCallback, this)failed with error CUPTI_ERROR_INSUFFICIENT_PRIVILEGES\n"
     ]
    },
    {
     "name": "stdout",
     "output_type": "stream",
     "text": [
      "520/600 [=========================>....] - ETA: 1:11 - loss: 0.1103 - mean_acc: 0.8897"
     ]
    },
    {
     "name": "stderr",
     "output_type": "stream",
     "text": [
      "2023-02-04 08:37:36.934791: I tensorflow/core/profiler/lib/profiler_session.cc:66] Profiler session collecting data.\n",
      "2023-02-04 08:37:37.757815: I tensorflow/core/profiler/internal/gpu/cupti_collector.cc:673]  GpuTracer has collected 0 callback api events and 0 activity events. \n",
      "2023-02-04 08:37:38.331713: I tensorflow/core/profiler/lib/profiler_session.cc:159] Profiler session tear down.\n",
      "2023-02-04 08:37:39.153371: I tensorflow/core/profiler/rpc/client/save_profile.cc:137] Creating directory: ./logs_tboard/logs/train/plugins/profile/2023_02_04_08_37_38\n",
      "2023-02-04 08:37:39.616218: I tensorflow/core/profiler/rpc/client/save_profile.cc:143] Dumped gzipped tool data for trace.json.gz to ./logs_tboard/logs/train/plugins/profile/2023_02_04_08_37_38/gpu-vision-2.trace.json.gz\n",
      "2023-02-04 08:37:40.293187: I tensorflow/core/profiler/rpc/client/save_profile.cc:137] Creating directory: ./logs_tboard/logs/train/plugins/profile/2023_02_04_08_37_38\n",
      "2023-02-04 08:37:40.307232: I tensorflow/core/profiler/rpc/client/save_profile.cc:143] Dumped gzipped tool data for memory_profile.json.gz to ./logs_tboard/logs/train/plugins/profile/2023_02_04_08_37_38/gpu-vision-2.memory_profile.json.gz\n",
      "2023-02-04 08:37:40.319770: I tensorflow/core/profiler/rpc/client/capture_profile.cc:251] Creating directory: ./logs_tboard/logs/train/plugins/profile/2023_02_04_08_37_38Dumped tool data for xplane.pb to ./logs_tboard/logs/train/plugins/profile/2023_02_04_08_37_38/gpu-vision-2.xplane.pb\n",
      "Dumped tool data for overview_page.pb to ./logs_tboard/logs/train/plugins/profile/2023_02_04_08_37_38/gpu-vision-2.overview_page.pb\n",
      "Dumped tool data for input_pipeline.pb to ./logs_tboard/logs/train/plugins/profile/2023_02_04_08_37_38/gpu-vision-2.input_pipeline.pb\n",
      "Dumped tool data for tensorflow_stats.pb to ./logs_tboard/logs/train/plugins/profile/2023_02_04_08_37_38/gpu-vision-2.tensorflow_stats.pb\n",
      "Dumped tool data for kernel_stats.pb to ./logs_tboard/logs/train/plugins/profile/2023_02_04_08_37_38/gpu-vision-2.kernel_stats.pb\n",
      "\n"
     ]
    },
    {
     "name": "stdout",
     "output_type": "stream",
     "text": [
      "600/600 [==============================] - 685s 1s/step - loss: 0.1095 - mean_acc: 0.8905 - val_loss: 0.1054 - val_mean_acc: 0.8946\n",
      "\n",
      "Epoch 00001: val_loss improved from inf to 0.10537, saving model to ./checkpoint/multimodal/00000-multimodal_personality/text-personality-model-01-0.11.h5\n",
      "\n",
      "Epoch 00001: saving optimizaer to ./checkpoint/multimodal/00000-multimodal_personality/text-personality-model-01-0.11.pkl\n",
      "Epoch 2/50\n",
      "600/600 [==============================] - 638s 1s/step - loss: 0.1045 - mean_acc: 0.8955 - val_loss: 0.1040 - val_mean_acc: 0.8960\n",
      "\n",
      "Epoch 00002: val_loss improved from 0.10537 to 0.10398, saving model to ./checkpoint/multimodal/00000-multimodal_personality/text-personality-model-02-0.10.h5\n",
      "\n",
      "Epoch 00002: saving optimizaer to ./checkpoint/multimodal/00000-multimodal_personality/text-personality-model-02-0.10.pkl\n",
      "Epoch 3/50\n",
      "600/600 [==============================] - 636s 1s/step - loss: 0.1030 - mean_acc: 0.8970 - val_loss: 0.1042 - val_mean_acc: 0.8958\n",
      "\n",
      "Epoch 00003: val_loss did not improve from 0.10398\n",
      "\n",
      "Epoch 00003: saving optimizaer to ./checkpoint/multimodal/00000-multimodal_personality/text-personality-model-03-0.10.pkl\n",
      "\n",
      "Epoch 00003: ReduceLROnPlateau reducing learning rate to 4.999999873689376e-05.\n",
      "Epoch 4/50\n",
      "600/600 [==============================] - 638s 1s/step - loss: 0.1016 - mean_acc: 0.8984 - val_loss: 0.1028 - val_mean_acc: 0.8972\n",
      "\n",
      "Epoch 00004: val_loss improved from 0.10398 to 0.10285, saving model to ./checkpoint/multimodal/00000-multimodal_personality/text-personality-model-04-0.10.h5\n",
      "\n",
      "Epoch 00004: saving optimizaer to ./checkpoint/multimodal/00000-multimodal_personality/text-personality-model-04-0.10.pkl\n",
      "Epoch 5/50\n",
      "600/600 [==============================] - 637s 1s/step - loss: 0.1010 - mean_acc: 0.8990 - val_loss: 0.1019 - val_mean_acc: 0.8981\n",
      "\n",
      "Epoch 00005: val_loss improved from 0.10285 to 0.10188, saving model to ./checkpoint/multimodal/00000-multimodal_personality/text-personality-model-05-0.10.h5\n",
      "\n",
      "Epoch 00005: saving optimizaer to ./checkpoint/multimodal/00000-multimodal_personality/text-personality-model-05-0.10.pkl\n",
      "\n",
      "Epoch 00005: ReduceLROnPlateau reducing learning rate to 2.499999936844688e-05.\n",
      "Epoch 6/50\n",
      "600/600 [==============================] - 634s 1s/step - loss: 0.1005 - mean_acc: 0.8995 - val_loss: 0.1017 - val_mean_acc: 0.8983\n",
      "\n",
      "Epoch 00006: val_loss improved from 0.10188 to 0.10173, saving model to ./checkpoint/multimodal/00000-multimodal_personality/text-personality-model-06-0.10.h5\n",
      "\n",
      "Epoch 00006: saving optimizaer to ./checkpoint/multimodal/00000-multimodal_personality/text-personality-model-06-0.10.pkl\n",
      "Epoch 7/50\n",
      "600/600 [==============================] - 635s 1s/step - loss: 0.1003 - mean_acc: 0.8997 - val_loss: 0.1015 - val_mean_acc: 0.8985\n",
      "\n",
      "Epoch 00007: val_loss improved from 0.10173 to 0.10150, saving model to ./checkpoint/multimodal/00000-multimodal_personality/text-personality-model-07-0.10.h5\n",
      "\n",
      "Epoch 00007: saving optimizaer to ./checkpoint/multimodal/00000-multimodal_personality/text-personality-model-07-0.10.pkl\n",
      "\n",
      "Epoch 00007: ReduceLROnPlateau reducing learning rate to 1.249999968422344e-05.\n",
      "Epoch 8/50\n",
      "600/600 [==============================] - 636s 1s/step - loss: 0.0997 - mean_acc: 0.9003 - val_loss: 0.1010 - val_mean_acc: 0.8990\n",
      "\n",
      "Epoch 00008: val_loss improved from 0.10150 to 0.10104, saving model to ./checkpoint/multimodal/00000-multimodal_personality/text-personality-model-08-0.10.h5\n",
      "\n",
      "Epoch 00008: saving optimizaer to ./checkpoint/multimodal/00000-multimodal_personality/text-personality-model-08-0.10.pkl\n",
      "Epoch 9/50\n",
      "600/600 [==============================] - 638s 1s/step - loss: 0.0995 - mean_acc: 0.9005 - val_loss: 0.1016 - val_mean_acc: 0.8984\n",
      "\n",
      "Epoch 00009: val_loss did not improve from 0.10104\n",
      "\n",
      "Epoch 00009: saving optimizaer to ./checkpoint/multimodal/00000-multimodal_personality/text-personality-model-09-0.10.pkl\n",
      "\n",
      "Epoch 00009: ReduceLROnPlateau reducing learning rate to 6.24999984211172e-06.\n",
      "Epoch 10/50\n",
      "600/600 [==============================] - 639s 1s/step - loss: 0.0993 - mean_acc: 0.9007 - val_loss: 0.1010 - val_mean_acc: 0.8990\n",
      "\n",
      "Epoch 00010: val_loss improved from 0.10104 to 0.10099, saving model to ./checkpoint/multimodal/00000-multimodal_personality/text-personality-model-10-0.10.h5\n",
      "\n",
      "Epoch 00010: saving optimizaer to ./checkpoint/multimodal/00000-multimodal_personality/text-personality-model-10-0.10.pkl\n",
      "Epoch 11/50\n",
      "600/600 [==============================] - 638s 1s/step - loss: 0.0992 - mean_acc: 0.9008 - val_loss: 0.1012 - val_mean_acc: 0.8988\n",
      "\n",
      "Epoch 00011: val_loss did not improve from 0.10099\n",
      "\n",
      "Epoch 00011: saving optimizaer to ./checkpoint/multimodal/00000-multimodal_personality/text-personality-model-11-0.10.pkl\n",
      "\n",
      "Epoch 00011: ReduceLROnPlateau reducing learning rate to 3.12499992105586e-06.\n",
      "Epoch 12/50\n",
      "600/600 [==============================] - 634s 1s/step - loss: 0.0990 - mean_acc: 0.9010 - val_loss: 0.1009 - val_mean_acc: 0.8991\n",
      "\n",
      "Epoch 00012: val_loss improved from 0.10099 to 0.10091, saving model to ./checkpoint/multimodal/00000-multimodal_personality/text-personality-model-12-0.10.h5\n",
      "\n",
      "Epoch 00012: saving optimizaer to ./checkpoint/multimodal/00000-multimodal_personality/text-personality-model-12-0.10.pkl\n",
      "Epoch 13/50\n",
      "600/600 [==============================] - 638s 1s/step - loss: 0.0990 - mean_acc: 0.9010 - val_loss: 0.1010 - val_mean_acc: 0.8990\n",
      "\n",
      "Epoch 00013: val_loss did not improve from 0.10091\n",
      "\n",
      "Epoch 00013: saving optimizaer to ./checkpoint/multimodal/00000-multimodal_personality/text-personality-model-13-0.10.pkl\n",
      "\n",
      "Epoch 00013: ReduceLROnPlateau reducing learning rate to 1.56249996052793e-06.\n",
      "Epoch 14/50\n",
      "600/600 [==============================] - 639s 1s/step - loss: 0.0990 - mean_acc: 0.9010 - val_loss: 0.1009 - val_mean_acc: 0.8991\n",
      "\n",
      "Epoch 00014: val_loss did not improve from 0.10091\n",
      "\n",
      "Epoch 00014: saving optimizaer to ./checkpoint/multimodal/00000-multimodal_personality/text-personality-model-14-0.10.pkl\n",
      "Epoch 15/50\n",
      "600/600 [==============================] - 638s 1s/step - loss: 0.0989 - mean_acc: 0.9011 - val_loss: 0.1010 - val_mean_acc: 0.8990\n",
      "\n",
      "Epoch 00015: val_loss did not improve from 0.10091\n",
      "\n",
      "Epoch 00015: saving optimizaer to ./checkpoint/multimodal/00000-multimodal_personality/text-personality-model-15-0.10.pkl\n",
      "\n",
      "Epoch 00015: ReduceLROnPlateau reducing learning rate to 7.81249980263965e-07.\n",
      "Epoch 16/50\n",
      "600/600 [==============================] - 637s 1s/step - loss: 0.0989 - mean_acc: 0.9011 - val_loss: 0.1009 - val_mean_acc: 0.8991\n",
      "\n",
      "Epoch 00016: val_loss did not improve from 0.10091\n",
      "\n",
      "Epoch 00016: saving optimizaer to ./checkpoint/multimodal/00000-multimodal_personality/text-personality-model-16-0.10.pkl\n",
      "Epoch 17/50\n",
      "600/600 [==============================] - 633s 1s/step - loss: 0.0989 - mean_acc: 0.9011 - val_loss: 0.1009 - val_mean_acc: 0.8991\n",
      "\n",
      "Epoch 00017: val_loss did not improve from 0.10091\n",
      "\n",
      "Epoch 00017: saving optimizaer to ./checkpoint/multimodal/00000-multimodal_personality/text-personality-model-17-0.10.pkl\n",
      "\n",
      "Epoch 00017: ReduceLROnPlateau reducing learning rate to 3.906249901319825e-07.\n",
      "Epoch 18/50\n",
      "600/600 [==============================] - 637s 1s/step - loss: 0.0989 - mean_acc: 0.9011 - val_loss: 0.1009 - val_mean_acc: 0.8991\n",
      "\n",
      "Epoch 00018: val_loss improved from 0.10091 to 0.10091, saving model to ./checkpoint/multimodal/00000-multimodal_personality/text-personality-model-18-0.10.h5\n",
      "\n",
      "Epoch 00018: saving optimizaer to ./checkpoint/multimodal/00000-multimodal_personality/text-personality-model-18-0.10.pkl\n",
      "Epoch 19/50\n",
      "600/600 [==============================] - 637s 1s/step - loss: 0.0989 - mean_acc: 0.9011 - val_loss: 0.1009 - val_mean_acc: 0.8991\n",
      "\n",
      "Epoch 00019: val_loss improved from 0.10091 to 0.10090, saving model to ./checkpoint/multimodal/00000-multimodal_personality/text-personality-model-19-0.10.h5\n",
      "\n",
      "Epoch 00019: saving optimizaer to ./checkpoint/multimodal/00000-multimodal_personality/text-personality-model-19-0.10.pkl\n",
      "\n",
      "Epoch 00019: ReduceLROnPlateau reducing learning rate to 1.9531249506599124e-07.\n",
      "Epoch 20/50\n",
      "600/600 [==============================] - 635s 1s/step - loss: 0.0988 - mean_acc: 0.9012 - val_loss: 0.1009 - val_mean_acc: 0.8991\n",
      "\n",
      "Epoch 00020: val_loss did not improve from 0.10090\n",
      "\n",
      "Epoch 00020: saving optimizaer to ./checkpoint/multimodal/00000-multimodal_personality/text-personality-model-20-0.10.pkl\n",
      "Epoch 21/50\n",
      "600/600 [==============================] - 634s 1s/step - loss: 0.0988 - mean_acc: 0.9012 - val_loss: 0.1009 - val_mean_acc: 0.8991\n",
      "\n",
      "Epoch 00021: val_loss improved from 0.10090 to 0.10090, saving model to ./checkpoint/multimodal/00000-multimodal_personality/text-personality-model-21-0.10.h5\n",
      "\n",
      "Epoch 00021: saving optimizaer to ./checkpoint/multimodal/00000-multimodal_personality/text-personality-model-21-0.10.pkl\n",
      "\n",
      "Epoch 00021: ReduceLROnPlateau reducing learning rate to 9.765624753299562e-08.\n",
      "Epoch 22/50\n",
      "600/600 [==============================] - 631s 1s/step - loss: 0.0988 - mean_acc: 0.9012 - val_loss: 0.1009 - val_mean_acc: 0.8991\n",
      "\n",
      "Epoch 00022: val_loss improved from 0.10090 to 0.10090, saving model to ./checkpoint/multimodal/00000-multimodal_personality/text-personality-model-22-0.10.h5\n",
      "\n",
      "Epoch 00022: saving optimizaer to ./checkpoint/multimodal/00000-multimodal_personality/text-personality-model-22-0.10.pkl\n",
      "Epoch 23/50\n",
      "600/600 [==============================] - 631s 1s/step - loss: 0.0988 - mean_acc: 0.9012 - val_loss: 0.1009 - val_mean_acc: 0.8991\n",
      "\n",
      "Epoch 00023: val_loss improved from 0.10090 to 0.10090, saving model to ./checkpoint/multimodal/00000-multimodal_personality/text-personality-model-23-0.10.h5\n",
      "\n",
      "Epoch 00023: saving optimizaer to ./checkpoint/multimodal/00000-multimodal_personality/text-personality-model-23-0.10.pkl\n",
      "\n",
      "Epoch 00023: ReduceLROnPlateau reducing learning rate to 4.882812376649781e-08.\n",
      "Epoch 24/50\n",
      "600/600 [==============================] - 634s 1s/step - loss: 0.0988 - mean_acc: 0.9012 - val_loss: 0.1009 - val_mean_acc: 0.8991\n",
      "\n",
      "Epoch 00024: val_loss did not improve from 0.10090\n",
      "\n",
      "Epoch 00024: saving optimizaer to ./checkpoint/multimodal/00000-multimodal_personality/text-personality-model-24-0.10.pkl\n",
      "Epoch 25/50\n",
      "600/600 [==============================] - 632s 1s/step - loss: 0.0988 - mean_acc: 0.9012 - val_loss: 0.1009 - val_mean_acc: 0.8991\n",
      "\n",
      "Epoch 00025: val_loss improved from 0.10090 to 0.10090, saving model to ./checkpoint/multimodal/00000-multimodal_personality/text-personality-model-25-0.10.h5\n",
      "\n",
      "Epoch 00025: saving optimizaer to ./checkpoint/multimodal/00000-multimodal_personality/text-personality-model-25-0.10.pkl\n",
      "\n",
      "Epoch 00025: ReduceLROnPlateau reducing learning rate to 2.4414061883248905e-08.\n",
      "Epoch 26/50\n",
      "600/600 [==============================] - 633s 1s/step - loss: 0.0988 - mean_acc: 0.9012 - val_loss: 0.1009 - val_mean_acc: 0.8991\n",
      "\n",
      "Epoch 00026: val_loss improved from 0.10090 to 0.10090, saving model to ./checkpoint/multimodal/00000-multimodal_personality/text-personality-model-26-0.10.h5\n",
      "\n",
      "Epoch 00026: saving optimizaer to ./checkpoint/multimodal/00000-multimodal_personality/text-personality-model-26-0.10.pkl\n",
      "Epoch 27/50\n",
      "600/600 [==============================] - 635s 1s/step - loss: 0.0988 - mean_acc: 0.9012 - val_loss: 0.1009 - val_mean_acc: 0.8991\n",
      "\n",
      "Epoch 00027: val_loss improved from 0.10090 to 0.10090, saving model to ./checkpoint/multimodal/00000-multimodal_personality/text-personality-model-27-0.10.h5\n",
      "\n",
      "Epoch 00027: saving optimizaer to ./checkpoint/multimodal/00000-multimodal_personality/text-personality-model-27-0.10.pkl\n",
      "\n",
      "Epoch 00027: ReduceLROnPlateau reducing learning rate to 1.2207030941624453e-08.\n",
      "Epoch 28/50\n",
      "600/600 [==============================] - 634s 1s/step - loss: 0.0988 - mean_acc: 0.9012 - val_loss: 0.1009 - val_mean_acc: 0.8991\n",
      "\n",
      "Epoch 00028: val_loss did not improve from 0.10090\n",
      "\n",
      "Epoch 00028: saving optimizaer to ./checkpoint/multimodal/00000-multimodal_personality/text-personality-model-28-0.10.pkl\n",
      "Epoch 29/50\n",
      "600/600 [==============================] - 633s 1s/step - loss: 0.0988 - mean_acc: 0.9012 - val_loss: 0.1009 - val_mean_acc: 0.8991\n",
      "\n",
      "Epoch 00029: val_loss did not improve from 0.10090\n",
      "\n",
      "Epoch 00029: saving optimizaer to ./checkpoint/multimodal/00000-multimodal_personality/text-personality-model-29-0.10.pkl\n",
      "\n",
      "Epoch 00029: ReduceLROnPlateau reducing learning rate to 6.103515470812226e-09.\n",
      "Epoch 30/50\n",
      "600/600 [==============================] - 633s 1s/step - loss: 0.0988 - mean_acc: 0.9012 - val_loss: 0.1009 - val_mean_acc: 0.8991\n",
      "\n",
      "Epoch 00030: val_loss did not improve from 0.10090\n",
      "\n",
      "Epoch 00030: saving optimizaer to ./checkpoint/multimodal/00000-multimodal_personality/text-personality-model-30-0.10.pkl\n",
      "Epoch 31/50\n",
      "600/600 [==============================] - 633s 1s/step - loss: 0.0988 - mean_acc: 0.9012 - val_loss: 0.1009 - val_mean_acc: 0.8991\n",
      "\n",
      "Epoch 00031: val_loss did not improve from 0.10090\n",
      "\n",
      "Epoch 00031: saving optimizaer to ./checkpoint/multimodal/00000-multimodal_personality/text-personality-model-31-0.10.pkl\n",
      "\n",
      "Epoch 00031: ReduceLROnPlateau reducing learning rate to 3.051757735406113e-09.\n",
      "Epoch 32/50\n",
      "600/600 [==============================] - 633s 1s/step - loss: 0.0988 - mean_acc: 0.9012 - val_loss: 0.1009 - val_mean_acc: 0.8991\n",
      "\n",
      "Epoch 00032: val_loss did not improve from 0.10090\n",
      "\n",
      "Epoch 00032: saving optimizaer to ./checkpoint/multimodal/00000-multimodal_personality/text-personality-model-32-0.10.pkl\n",
      "Epoch 33/50\n",
      "600/600 [==============================] - 632s 1s/step - loss: 0.0988 - mean_acc: 0.9012 - val_loss: 0.1009 - val_mean_acc: 0.8991\n",
      "\n",
      "Epoch 00033: val_loss did not improve from 0.10090\n",
      "\n",
      "Epoch 00033: saving optimizaer to ./checkpoint/multimodal/00000-multimodal_personality/text-personality-model-33-0.10.pkl\n",
      "\n",
      "Epoch 00033: ReduceLROnPlateau reducing learning rate to 1.5258788677030566e-09.\n",
      "Epoch 34/50\n",
      "600/600 [==============================] - 633s 1s/step - loss: 0.0988 - mean_acc: 0.9012 - val_loss: 0.1009 - val_mean_acc: 0.8991\n",
      "\n",
      "Epoch 00034: val_loss did not improve from 0.10090\n",
      "\n",
      "Epoch 00034: saving optimizaer to ./checkpoint/multimodal/00000-multimodal_personality/text-personality-model-34-0.10.pkl\n",
      "Epoch 35/50\n",
      "600/600 [==============================] - 631s 1s/step - loss: 0.0988 - mean_acc: 0.9012 - val_loss: 0.1009 - val_mean_acc: 0.8991\n",
      "\n",
      "Epoch 00035: val_loss did not improve from 0.10090\n",
      "\n",
      "Epoch 00035: saving optimizaer to ./checkpoint/multimodal/00000-multimodal_personality/text-personality-model-35-0.10.pkl\n",
      "\n",
      "Epoch 00035: ReduceLROnPlateau reducing learning rate to 7.629394338515283e-10.\n",
      "Epoch 36/50\n",
      "600/600 [==============================] - 632s 1s/step - loss: 0.0988 - mean_acc: 0.9012 - val_loss: 0.1009 - val_mean_acc: 0.8991\n",
      "\n",
      "Epoch 00036: val_loss did not improve from 0.10090\n",
      "\n",
      "Epoch 00036: saving optimizaer to ./checkpoint/multimodal/00000-multimodal_personality/text-personality-model-36-0.10.pkl\n",
      "Epoch 37/50\n",
      "600/600 [==============================] - 633s 1s/step - loss: 0.0988 - mean_acc: 0.9012 - val_loss: 0.1009 - val_mean_acc: 0.8991\n",
      "\n",
      "Epoch 00037: val_loss did not improve from 0.10090\n",
      "\n",
      "Epoch 00037: saving optimizaer to ./checkpoint/multimodal/00000-multimodal_personality/text-personality-model-37-0.10.pkl\n",
      "\n",
      "Epoch 00037: ReduceLROnPlateau reducing learning rate to 3.8146971692576415e-10.\n",
      "Epoch 38/50\n",
      " 45/600 [=>............................] - ETA: 8:07 - loss: 0.0925 - mean_acc: 0.9075"
     ]
    }
   ],
   "source": [
    "model.fit(x= train_ds, steps_per_epoch=train_steps, \n",
    "               validation_data=val_ds,validation_steps=val_steps,\n",
    "               epochs=50, callbacks=callbacks_list)"
   ]
  },
  {
   "cell_type": "code",
   "execution_count": null,
   "id": "caa8b7cd-d407-4383-b5c3-65412a507985",
   "metadata": {},
   "outputs": [],
   "source": [
    "import os\n",
    "# os.environ[\"CUDA_VISIBLE_DEVICES\"] = \"-1\""
   ]
  },
  {
   "cell_type": "code",
   "execution_count": null,
   "id": "ccb55d23-8de3-43a6-b487-f5f95338428c",
   "metadata": {},
   "outputs": [],
   "source": [
    "# os.environ[\"CUDA_VISIBLE_DEVICES\"]"
   ]
  },
  {
   "cell_type": "code",
   "execution_count": null,
   "id": "cd892de1-4b55-4915-bd85-b782358f8d8d",
   "metadata": {},
   "outputs": [],
   "source": []
  },
  {
   "cell_type": "code",
   "execution_count": null,
   "id": "99ca14e3-e712-4e8d-949d-6fd4dac35841",
   "metadata": {},
   "outputs": [],
   "source": []
  }
 ],
 "metadata": {
  "kernelspec": {
   "display_name": "tfgpu2.5",
   "language": "python",
   "name": "tfgpu2.5"
  },
  "language_info": {
   "codemirror_mode": {
    "name": "ipython",
    "version": 3
   },
   "file_extension": ".py",
   "mimetype": "text/x-python",
   "name": "python",
   "nbconvert_exporter": "python",
   "pygments_lexer": "ipython3",
   "version": "3.8.16"
  }
 },
 "nbformat": 4,
 "nbformat_minor": 5
}
